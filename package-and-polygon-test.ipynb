{
 "cells": [
  {
   "cell_type": "code",
   "execution_count": 2,
   "id": "4b540bab",
   "metadata": {},
   "outputs": [],
   "source": [
    "import os\n",
    "import dotenv\n",
    "\n",
    "\n",
    "import pandas as pd\n",
    "\n",
    "\n",
    "from datafin import S3Client"
   ]
  },
  {
   "cell_type": "code",
   "execution_count": 3,
   "id": "22a8f2f8",
   "metadata": {},
   "outputs": [],
   "source": [
    "dotenv.load_dotenv()\n",
    "\n",
    "\n",
    "s3_bucket = os.getenv('PERSONAL_S3_BUCKET_NAME')\n",
    "aws_access_key =  os.getenv('PERSONAL_AWS_ACCESS_KEY_ID')\n",
    "aws_secret_key =  os.getenv('PERSONAL_AWS_SECRET_ACCESS_KEY_ID')\n",
    "\n",
    "\n",
    "polygon_access_key =  os.getenv('POLYGON_AWS_ACCESS_KEY_ID')\n",
    "polygon_access_key_secret_key =  os.getenv('POLYGON_AWS_SECRET_ACCESS_KEY_ID')"
   ]
  },
  {
   "cell_type": "code",
   "execution_count": 4,
   "id": "d7d68918",
   "metadata": {},
   "outputs": [],
   "source": [
    "my_s3 = S3Client(\n",
    "    bucket_name=s3_bucket,\n",
    "    aws_access_key_id=aws_access_key,\n",
    "    aws_secret_access_key=aws_secret_key,\n",
    "    region_name='us-east-1'\n",
    ")"
   ]
  },
  {
   "cell_type": "code",
   "execution_count": 5,
   "id": "43e6b6e7",
   "metadata": {},
   "outputs": [],
   "source": [
    "p_s3 = S3Client(\n",
    "    aws_access_key_id=polygon_access_key,\n",
    "    aws_secret_access_key=polygon_access_key_secret_key,\n",
    "    is_polygon=True\n",
    ")"
   ]
  },
  {
   "cell_type": "code",
   "execution_count": 6,
   "id": "4ddc0dbf",
   "metadata": {},
   "outputs": [
    {
     "data": {
      "text/plain": [
       "'{\"data\": {\"message\": \"connection to s3 bucket successful!\"}}'"
      ]
     },
     "execution_count": 6,
     "metadata": {},
     "output_type": "execute_result"
    }
   ],
   "source": [
    "test = my_s3.get_json(\n",
    "    'test',\n",
    "    'test'\n",
    ")\n",
    "test"
   ]
  },
  {
   "cell_type": "code",
   "execution_count": 7,
   "id": "91eca71e",
   "metadata": {},
   "outputs": [],
   "source": [
    "polygon_path_base = 'us_stocks_sip/minute_aggs_v1'\n",
    "polygon_specific_path = '2025/04'\n",
    "\n",
    "polygon_combined_path = polygon_path_base + '/' + polygon_specific_path\n",
    "file_name = '2025-04-24'\n",
    "\n",
    "data_04_24 = p_s3.get_csv_compressed(\n",
    "    polygon_combined_path,\n",
    "    file_name\n",
    ")"
   ]
  },
  {
   "cell_type": "code",
   "execution_count": 9,
   "id": "bb0b044c",
   "metadata": {},
   "outputs": [],
   "source": [
    "data_04_24['date_time'] = pd.to_datetime(data_04_24['window_start'], unit='ns').dt.tz_localize('UTC').dt.tz_convert('America/New_York').dt.tz_localize(None)"
   ]
  },
  {
   "cell_type": "code",
   "execution_count": 11,
   "id": "90fd8412",
   "metadata": {},
   "outputs": [],
   "source": [
    "import pandas as pd\n",
    "\n",
    "def fill_missing_intervals(df):\n",
    "    # Create complete time range for the day\n",
    "    start_time = pd.Timestamp(df['date_time'].min().date()) + pd.Timedelta(hours=4)\n",
    "    end_time = pd.Timestamp(df['date_time'].min().date()) + pd.Timedelta(hours=19, minutes=59)\n",
    "    all_times = pd.date_range(start=start_time, end=end_time, freq='1min')\n",
    "    \n",
    "    # Get unique tickers\n",
    "    tickers = df['ticker'].unique()\n",
    "    \n",
    "    # Create a MultiIndex with all combinations of tickers and times\n",
    "    multi_index = pd.MultiIndex.from_product(\n",
    "        [tickers, all_times],\n",
    "        names=['ticker', 'date_time']\n",
    "    )\n",
    "    \n",
    "    # Set the index to ticker and date_time\n",
    "    df = df.set_index(['ticker', 'date_time'])\n",
    "    \n",
    "    # Reindex to include all combinations\n",
    "    df = df.reindex(multi_index)\n",
    "    \n",
    "    # Fill missing values with 0\n",
    "    numeric_columns = ['volume', 'open', 'close', 'high', 'low', 'transactions']\n",
    "    df[numeric_columns] = df[numeric_columns].fillna(0)\n",
    "    \n",
    "    # Reset index to get back to original format\n",
    "    df = df.reset_index()\n",
    "    \n",
    "    return df\n",
    "\n",
    "# Apply the function to your dataframe\n",
    "data_04_24_filled = fill_missing_intervals(data_04_24)"
   ]
  },
  {
   "cell_type": "code",
   "execution_count": 20,
   "id": "3916bf91",
   "metadata": {},
   "outputs": [
    {
     "data": {
      "text/plain": [
       "ticker          960\n",
       "date_time       960\n",
       "volume          960\n",
       "open            960\n",
       "close           960\n",
       "high            960\n",
       "low             960\n",
       "window_start    900\n",
       "transactions    960\n",
       "dtype: int64"
      ]
     },
     "execution_count": 20,
     "metadata": {},
     "output_type": "execute_result"
    }
   ],
   "source": [
    "data_04_24_filled_spy = data_04_24_filled[data_04_24_filled['ticker'] == 'SPY'].count()\n",
    "data_04_24_filled_spy"
   ]
  },
  {
   "cell_type": "code",
   "execution_count": 13,
   "id": "06e19375",
   "metadata": {},
   "outputs": [
    {
     "data": {
      "text/plain": [
       "array(['A', 'AA', 'AAA', ..., 'ZYME', 'ZYXI', 'ZZZ'],\n",
       "      shape=(10612,), dtype=object)"
      ]
     },
     "execution_count": 13,
     "metadata": {},
     "output_type": "execute_result"
    }
   ],
   "source": [
    "data_04_24['ticker'].unique()"
   ]
  }
 ],
 "metadata": {
  "kernelspec": {
   "display_name": "datafin-venv",
   "language": "python",
   "name": "python3"
  },
  "language_info": {
   "codemirror_mode": {
    "name": "ipython",
    "version": 3
   },
   "file_extension": ".py",
   "mimetype": "text/x-python",
   "name": "python",
   "nbconvert_exporter": "python",
   "pygments_lexer": "ipython3",
   "version": "3.13.2"
  }
 },
 "nbformat": 4,
 "nbformat_minor": 5
}
