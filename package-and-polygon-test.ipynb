{
 "cells": [
  {
   "cell_type": "code",
   "execution_count": 1,
   "id": "4b540bab",
   "metadata": {},
   "outputs": [],
   "source": [
    "import os\n",
    "import dotenv\n",
    "\n",
    "\n",
    "import pandas as pd\n",
    "\n",
    "\n",
    "from datafin import S3Client"
   ]
  },
  {
   "cell_type": "code",
   "execution_count": 2,
   "id": "22a8f2f8",
   "metadata": {},
   "outputs": [],
   "source": [
    "dotenv.load_dotenv()\n",
    "\n",
    "\n",
    "s3_bucket = os.getenv('PERSONAL_S3_BUCKET_NAME')\n",
    "aws_access_key =  os.getenv('PERSONAL_AWS_ACCESS_KEY_ID')\n",
    "aws_secret_key =  os.getenv('PERSONAL_AWS_SECRET_ACCESS_KEY_ID')\n",
    "\n",
    "\n",
    "polygon_access_key =  os.getenv('POLYGON_AWS_ACCESS_KEY_ID')\n",
    "polygon_access_key_secret_key =  os.getenv('POLYGON_AWS_SECRET_ACCESS_KEY_ID')"
   ]
  },
  {
   "cell_type": "code",
   "execution_count": 3,
   "id": "d7d68918",
   "metadata": {},
   "outputs": [],
   "source": [
    "my_s3 = S3Client(\n",
    "    bucket_name=s3_bucket,\n",
    "    aws_access_key_id=aws_access_key,\n",
    "    aws_secret_access_key=aws_secret_key,\n",
    "    region_name='us-east-1'\n",
    ")\n",
    "\n",
    "p_s3 = S3Client(\n",
    "    aws_access_key_id=polygon_access_key,\n",
    "    aws_secret_access_key=polygon_access_key_secret_key,\n",
    "    is_polygon=True\n",
    ")"
   ]
  },
  {
   "cell_type": "code",
   "execution_count": 4,
   "id": "4ddc0dbf",
   "metadata": {},
   "outputs": [
    {
     "data": {
      "text/plain": [
       "'{\"data\": {\"message\": \"connection to s3 bucket successful!\"}}'"
      ]
     },
     "execution_count": 4,
     "metadata": {},
     "output_type": "execute_result"
    }
   ],
   "source": [
    "test = my_s3.get_json(\n",
    "    'test',\n",
    "    'test'\n",
    ")\n",
    "test"
   ]
  },
  {
   "cell_type": "code",
   "execution_count": null,
   "id": "91eca71e",
   "metadata": {},
   "outputs": [],
   "source": [
    "polygon_path_base = 'us_stocks_sip/minute_aggs_v1'\n",
    "polygon_specific_path = '2025/04'\n",
    "\n",
    "polygon_combined_path = polygon_path_base + '/' + polygon_specific_path\n",
    "file_name = '2025-04-25'\n",
    "\n",
    "data_04_25 = p_s3.get_csv_compressed(\n",
    "    polygon_combined_path,\n",
    "    file_name\n",
    ")"
   ]
  },
  {
   "cell_type": "code",
   "execution_count": null,
   "id": "bb0b044c",
   "metadata": {},
   "outputs": [],
   "source": [
    "data_04_25['date_time'] = pd.to_datetime(data_04_25['window_start'], unit='ns').dt.tz_localize('UTC').dt.tz_convert('America/New_York').dt.tz_localize(None)"
   ]
  },
  {
   "cell_type": "code",
   "execution_count": null,
   "id": "e2699323",
   "metadata": {},
   "outputs": [],
   "source": [
    "my_s3.post_parquet(\n",
    "    'dev/polygon/equities/raw/year=2025/month=04',\n",
    "    'raw-2025-04-25'\n",
    ")"
   ]
  },
  {
   "cell_type": "code",
   "execution_count": null,
   "id": "e14e6a93",
   "metadata": {},
   "outputs": [],
   "source": [
    "my_s3.get_parquet(\n",
    "    'dev/polygon/equities/raw/year=2025/month=04',\n",
    "    'raw-2025-04-25'\n",
    ")"
   ]
  },
  {
   "cell_type": "code",
   "execution_count": null,
   "id": "99ed841c",
   "metadata": {},
   "outputs": [
    {
     "name": "stdout",
     "output_type": "stream",
     "text": [
      "2025-01-01 2025-04-27\n"
     ]
    },
    {
     "data": {
      "text/plain": [
       "['2025-01-02',\n",
       " '2025-01-03',\n",
       " '2025-01-06',\n",
       " '2025-01-07',\n",
       " '2025-01-08',\n",
       " '2025-01-10',\n",
       " '2025-01-13',\n",
       " '2025-01-14',\n",
       " '2025-01-15',\n",
       " '2025-01-16',\n",
       " '2025-01-17',\n",
       " '2025-01-21',\n",
       " '2025-01-22',\n",
       " '2025-01-23',\n",
       " '2025-01-24',\n",
       " '2025-01-27',\n",
       " '2025-01-28',\n",
       " '2025-01-29',\n",
       " '2025-01-30',\n",
       " '2025-01-31',\n",
       " '2025-02-03',\n",
       " '2025-02-04',\n",
       " '2025-02-05',\n",
       " '2025-02-06',\n",
       " '2025-02-07',\n",
       " '2025-02-10',\n",
       " '2025-02-11',\n",
       " '2025-02-12',\n",
       " '2025-02-13',\n",
       " '2025-02-14',\n",
       " '2025-02-18',\n",
       " '2025-02-19',\n",
       " '2025-02-20',\n",
       " '2025-02-21',\n",
       " '2025-02-24',\n",
       " '2025-02-25',\n",
       " '2025-02-26',\n",
       " '2025-02-27',\n",
       " '2025-02-28',\n",
       " '2025-03-03',\n",
       " '2025-03-04',\n",
       " '2025-03-05',\n",
       " '2025-03-06',\n",
       " '2025-03-07',\n",
       " '2025-03-10',\n",
       " '2025-03-11',\n",
       " '2025-03-12',\n",
       " '2025-03-13',\n",
       " '2025-03-14',\n",
       " '2025-03-17',\n",
       " '2025-03-18',\n",
       " '2025-03-19',\n",
       " '2025-03-20',\n",
       " '2025-03-21',\n",
       " '2025-03-24',\n",
       " '2025-03-25',\n",
       " '2025-03-26',\n",
       " '2025-03-27',\n",
       " '2025-03-28',\n",
       " '2025-03-31',\n",
       " '2025-04-01',\n",
       " '2025-04-02',\n",
       " '2025-04-03',\n",
       " '2025-04-04',\n",
       " '2025-04-07',\n",
       " '2025-04-08',\n",
       " '2025-04-09',\n",
       " '2025-04-10',\n",
       " '2025-04-11',\n",
       " '2025-04-14',\n",
       " '2025-04-15',\n",
       " '2025-04-16',\n",
       " '2025-04-17',\n",
       " '2025-04-21',\n",
       " '2025-04-22',\n",
       " '2025-04-23',\n",
       " '2025-04-24']"
      ]
     },
     "execution_count": 11,
     "metadata": {},
     "output_type": "execute_result"
    }
   ],
   "source": [
    "import pandas_market_calendars as mcal\n",
    "import datetime\n",
    "\n",
    "nyse = mcal.get_calendar('NYSE')\n",
    "\n",
    "current_year = datetime.datetime.now().year\n",
    "current_month = datetime.datetime.now().month\n",
    "current_month_formatted = f'{current_month:02d}'\n",
    "\n",
    "yesterday = datetime.datetime.now() - datetime.timedelta(days=1)\n",
    "yesterday_day = yesterday.day\n",
    "yesterday_day_formatted = f'{yesterday_day:02d}'\n",
    "\n",
    "start_date = f'{current_year}-01-01'\n",
    "end_date = f'{current_year}-{current_month_formatted}-{yesterday_day_formatted}'\n",
    "\n",
    "print(start_date, end_date)\n",
    "trading_days = nyse.valid_days(start_date=start_date, end_date=end_date)\n",
    "\n",
    "formatted_days = [day.strftime('%Y-%m-%d') for day in trading_days]\n",
    "\n",
    "val = []\n",
    "for day in formatted_days:\n",
    "    if day < datetime.datetime.strptime('2025-04-25', '%Y-%m-%d').strftime('%Y-%m-%d'):\n",
    "        val.append(day)\n",
    "    else:\n",
    "        continue\n",
    "val"
   ]
  }
 ],
 "metadata": {
  "kernelspec": {
   "display_name": "datafin-venv",
   "language": "python",
   "name": "python3"
  },
  "language_info": {
   "codemirror_mode": {
    "name": "ipython",
    "version": 3
   },
   "file_extension": ".py",
   "mimetype": "text/x-python",
   "name": "python",
   "nbconvert_exporter": "python",
   "pygments_lexer": "ipython3",
   "version": "3.13.2"
  }
 },
 "nbformat": 4,
 "nbformat_minor": 5
}
