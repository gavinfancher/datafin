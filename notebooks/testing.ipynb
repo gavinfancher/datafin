{
 "cells": [
  {
   "cell_type": "code",
   "execution_count": null,
   "id": "724a830d",
   "metadata": {},
   "outputs": [],
   "source": [
    "from datafin.aws import SecretsClient                 #type: ignore\n",
    "from datafin.aws import S3Client                      #type: ignore\n",
    "\n",
    "from datafin.utils import GmailClient                 #type: ignore"
   ]
  },
  {
   "cell_type": "code",
   "execution_count": 6,
   "id": "135e451c",
   "metadata": {},
   "outputs": [
    {
     "data": {
      "text/plain": [
       "True"
      ]
     },
     "execution_count": 6,
     "metadata": {},
     "output_type": "execute_result"
    }
   ],
   "source": [
    "import plotly.graph_objects as go\n",
    "\n",
    "secrets = SecretsClient()\n",
    "\n",
    "gmail = GmailClient(\n",
    "    secrets.get_gmail_address(),\n",
    "    secrets.get_gmail_app_password()\n",
    ")\n",
    "\n",
    "s3 = S3Client(\n",
    "    bucket_name = secrets.get_bucket_name(),\n",
    "    aws_access_key_id = secrets.aws_access_key,\n",
    "    aws_secret_access_key = secrets.aws_secret_access_key,\n",
    ")\n",
    "\n",
    "df = s3.get_parquet(\n",
    "    path = 'dev/polygon/equities/spy/store/market-open/year=2025',\n",
    "    file_name = 'spy-open-2025-06-16'\n",
    ")\n",
    "\n",
    "fig = go.Figure(data=[\n",
    "        go.Candlestick(\n",
    "            x=df['datetime_ny'],\n",
    "            open=df['open'],\n",
    "            high=df['high'],\n",
    "            low=df['low'],\n",
    "            close=df['close']\n",
    "        )\n",
    "    ]\n",
    ")\n",
    "\n",
    "\n",
    "fig.update_layout(xaxis_rangeslider_visible=False)\n",
    "    \n",
    "image_bytes = fig.to_image(\n",
    "    format=\"png\",\n",
    "    scale=5,\n",
    "    engine=\"kaleido\"\n",
    ")\n",
    "\n",
    "s3.post_png(\n",
    "    image_bytes=image_bytes,\n",
    "    path=\"charts\",\n",
    "    file_name=\"candlestick_chart_v1\"\n",
    ")\n",
    "\n",
    "image_from_s3 = s3.get_png(\n",
    "    path = 'charts',\n",
    "    file_name = 'candlestick_chart_v1'\n",
    ")\n",
    "\n",
    "gmail.send_email(\n",
    "    to = secrets.get_gmail_send_to_address(),\n",
    "    subject = 'todays opening spy minute',\n",
    "    text = 'attached is an image of todays opening minute on spy',\n",
    "    png_bytes = image_from_s3,\n",
    "    png_filename = '06-16-opening-min'\n",
    ")\n"
   ]
  }
 ],
 "metadata": {
  "kernelspec": {
   "display_name": "datafin-venv",
   "language": "python",
   "name": "python3"
  },
  "language_info": {
   "codemirror_mode": {
    "name": "ipython",
    "version": 3
   },
   "file_extension": ".py",
   "mimetype": "text/x-python",
   "name": "python",
   "nbconvert_exporter": "python",
   "pygments_lexer": "ipython3",
   "version": "3.12.10"
  }
 },
 "nbformat": 4,
 "nbformat_minor": 5
}
