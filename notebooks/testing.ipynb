{
 "cells": [
  {
   "cell_type": "code",
   "execution_count": 1,
   "id": "724a830d",
   "metadata": {},
   "outputs": [],
   "source": [
    "from datafin.aws import SecretsClient                 #type: ignore\n",
    "from datafin.aws import S3Client                      #type: ignore\n",
    "\n",
    "from datafin.utils import GmailClient                 #type: ignore"
   ]
  },
  {
   "cell_type": "code",
   "execution_count": null,
   "id": "f7c97897",
   "metadata": {},
   "outputs": [],
   "source": [
    "secrets = SecretsClient()"
   ]
  }
 ],
 "metadata": {
  "kernelspec": {
   "display_name": "datafin-venv",
   "language": "python",
   "name": "python3"
  },
  "language_info": {
   "codemirror_mode": {
    "name": "ipython",
    "version": 3
   },
   "file_extension": ".py",
   "mimetype": "text/x-python",
   "name": "python",
   "nbconvert_exporter": "python",
   "pygments_lexer": "ipython3",
   "version": "3.12.10"
  }
 },
 "nbformat": 4,
 "nbformat_minor": 5
}
