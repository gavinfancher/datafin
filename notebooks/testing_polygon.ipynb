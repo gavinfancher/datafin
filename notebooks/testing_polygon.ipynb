{
 "cells": [
  {
   "cell_type": "code",
   "execution_count": 4,
   "id": "2d6e811c",
   "metadata": {},
   "outputs": [],
   "source": [
    "from datafin import FMPClient\n",
    "from datafin.utils import (      #type: ignore\n",
    "    format_date\n",
    ")\n",
    "\n",
    "from datafin_dagster.resources.constants import (\n",
    "    FMP_API_KEY\n",
    ")\n",
    "\n",
    "\n",
    "import datetime\n",
    "import os"
   ]
  },
  {
   "cell_type": "code",
   "execution_count": 6,
   "id": "cf028881",
   "metadata": {},
   "outputs": [],
   "source": [
    "fmp = FMPClient(\n",
    "    api_key = FMP_API_KEY \n",
    ")"
   ]
  },
  {
   "cell_type": "code",
   "execution_count": 8,
   "id": "b2f74bf3",
   "metadata": {},
   "outputs": [
    {
     "data": {
      "text/plain": [
       "[{'symbol': 'AMZN',\n",
       "  'name': 'Amazon.com, Inc.',\n",
       "  'price': 216.98,\n",
       "  'changePercentage': 1.59667,\n",
       "  'change': 3.41,\n",
       "  'volume': 38063980,\n",
       "  'dayLow': 212.88,\n",
       "  'dayHigh': 217.85,\n",
       "  'yearHigh': 242.52,\n",
       "  'yearLow': 151.61,\n",
       "  'marketCap': 2303546472000,\n",
       "  'priceAvg50': 192.684,\n",
       "  'priceAvg200': 202.2147,\n",
       "  'exchange': 'NASDAQ',\n",
       "  'open': 214.76,\n",
       "  'previousClose': 213.57,\n",
       "  'timestamp': 1749499201}]"
      ]
     },
     "execution_count": 8,
     "metadata": {},
     "output_type": "execute_result"
    }
   ],
   "source": [
    "fmp.get_quote(\n",
    "    'AMZN'\n",
    ")"
   ]
  },
  {
   "cell_type": "markdown",
   "id": "eadb4465",
   "metadata": {},
   "source": []
  },
  {
   "cell_type": "code",
   "execution_count": null,
   "id": "34c1e80b",
   "metadata": {},
   "outputs": [],
   "source": [
    "import boto3\n",
    "import json\n",
    "\n",
    "client = boto3.client(\n",
    "    'secretsmanager',\n",
    "    aws_access_key_id = '',\n",
    "    aws_secret_access_key = '',\n",
    "    region_name = 'us-east-1'\n",
    ")"
   ]
  },
  {
   "cell_type": "code",
   "execution_count": 19,
   "id": "2744724a",
   "metadata": {},
   "outputs": [],
   "source": [
    "c = client.get_secret_value(\n",
    "    SecretId = 'apis/polygon'\n",
    ")"
   ]
  },
  {
   "cell_type": "code",
   "execution_count": 20,
   "id": "0e75810f",
   "metadata": {},
   "outputs": [
    {
     "data": {
      "text/plain": [
       "'GQn0EJI5jXsETWxkIn5fmVIQTufvfKam'"
      ]
     },
     "execution_count": 20,
     "metadata": {},
     "output_type": "execute_result"
    }
   ],
   "source": [
    "json.loads(c['SecretString'])['polygon_api_key']"
   ]
  }
 ],
 "metadata": {
  "kernelspec": {
   "display_name": "datafin-venv",
   "language": "python",
   "name": "python3"
  },
  "language_info": {
   "codemirror_mode": {
    "name": "ipython",
    "version": 3
   },
   "file_extension": ".py",
   "mimetype": "text/x-python",
   "name": "python",
   "nbconvert_exporter": "python",
   "pygments_lexer": "ipython3",
   "version": "3.12.10"
  }
 },
 "nbformat": 4,
 "nbformat_minor": 5
}
