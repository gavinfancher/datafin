{
 "cells": [
  {
   "cell_type": "code",
   "execution_count": 8,
   "id": "f498ffe7",
   "metadata": {},
   "outputs": [],
   "source": [
    "from datafin.utils import *"
   ]
  },
  {
   "cell_type": "code",
   "execution_count": null,
   "id": "091bb3c6",
   "metadata": {},
   "outputs": [],
   "source": []
  }
 ],
 "metadata": {
  "kernelspec": {
   "display_name": "datafin-venv",
   "language": "python",
   "name": "python3"
  },
  "language_info": {
   "codemirror_mode": {
    "name": "ipython",
    "version": 3
   },
   "file_extension": ".py",
   "mimetype": "text/x-python",
   "name": "python",
   "nbconvert_exporter": "python",
   "pygments_lexer": "ipython3",
   "version": "3.12.10"
  }
 },
 "nbformat": 4,
 "nbformat_minor": 5
}
