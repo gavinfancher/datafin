{
 "cells": [
  {
   "cell_type": "code",
   "execution_count": 1,
   "id": "94f82b0e",
   "metadata": {},
   "outputs": [],
   "source": [
    "import os\n",
    "import dotenv\n",
    "\n",
    "dotenv.load_dotenv()\n",
    "\n",
    "from datafin.aws import SecretsClient\n",
    "from datafin.apis import PolygonClient\n",
    "\n",
    "\n",
    "env_personal_aws_key = os.getenv('PERSONAL_AWS_ACCESS_KEY')\n",
    "env_personal_aws_secret_key = os.getenv('PERSONAL_AWS_SECRET_ACCESS_KEY')\n",
    "\n",
    "secrets = SecretsClient(\n",
    "    aws_access_key=env_personal_aws_key,\n",
    "    aws_secret_access_key=env_personal_aws_secret_key\n",
    ")"
   ]
  },
  {
   "cell_type": "code",
   "execution_count": 2,
   "id": "993e7b0a",
   "metadata": {},
   "outputs": [],
   "source": [
    "pg = PolygonClient(secrets.get_polygon_api_key())"
   ]
  },
  {
   "cell_type": "code",
   "execution_count": 11,
   "id": "29b60f69",
   "metadata": {},
   "outputs": [],
   "source": [
    "today = pg.get_aggs(\n",
    "    'spy',\n",
    "    1,\n",
    "    'year',\n",
    "    '2024-01-01',\n",
    "    '2024-12-31'\n",
    ")"
   ]
  },
  {
   "cell_type": "code",
   "execution_count": 12,
   "id": "20d68f7f",
   "metadata": {},
   "outputs": [
    {
     "data": {
      "text/plain": [
       "[Agg(open=472.16, high=609.07, low=466.43, close=586.08, volume=14447832087.0, vwap=533.808, timestamp=1704085200000, transactions=118560942, otc=None)]"
      ]
     },
     "execution_count": 12,
     "metadata": {},
     "output_type": "execute_result"
    }
   ],
   "source": [
    "today"
   ]
  }
 ],
 "metadata": {
  "kernelspec": {
   "display_name": "datafin-venv",
   "language": "python",
   "name": "python3"
  },
  "language_info": {
   "codemirror_mode": {
    "name": "ipython",
    "version": 3
   },
   "file_extension": ".py",
   "mimetype": "text/x-python",
   "name": "python",
   "nbconvert_exporter": "python",
   "pygments_lexer": "ipython3",
   "version": "3.12.10"
  }
 },
 "nbformat": 4,
 "nbformat_minor": 5
}
