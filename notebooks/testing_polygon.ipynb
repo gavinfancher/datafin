{
 "cells": [
  {
   "cell_type": "code",
   "execution_count": 1,
   "id": "f498ffe7",
   "metadata": {},
   "outputs": [],
   "source": [
    "from datafin.utils import to_ny_time, yesterday, string_formating\n",
    "from datafin.aws import SecretsClient\n",
    "from datafin.aws import S3Client"
   ]
  },
  {
   "cell_type": "code",
   "execution_count": 10,
   "id": "091bb3c6",
   "metadata": {},
   "outputs": [
    {
     "data": {
      "text/plain": [
       "'06'"
      ]
     },
     "execution_count": 10,
     "metadata": {},
     "output_type": "execute_result"
    }
   ],
   "source": [
    "string_formating(to_ny_time(yesterday()).month)"
   ]
  },
  {
   "cell_type": "code",
   "execution_count": 2,
   "id": "97d8a409",
   "metadata": {},
   "outputs": [],
   "source": [
    "s = SecretsClient()"
   ]
  },
  {
   "cell_type": "code",
   "execution_count": null,
   "id": "9a2044fd",
   "metadata": {},
   "outputs": [],
   "source": []
  },
  {
   "cell_type": "code",
   "execution_count": 8,
   "id": "9b562489",
   "metadata": {},
   "outputs": [],
   "source": [
    "pgs3 = S3Client(\n",
    "    aws_access_key_id=s.get_polygon_aws_key(),\n",
    "    aws_secret_access_key=s.get_polygon_api_key(),\n",
    "    is_polygon=True\n",
    ")"
   ]
  },
  {
   "cell_type": "code",
   "execution_count": 11,
   "id": "00865284",
   "metadata": {},
   "outputs": [],
   "source": [
    "\n",
    "\n",
    "ny_dt = to_ny_time(yesterday())\n",
    "date_year = string_formating(ny_dt.year)\n",
    "date_month = string_formating(ny_dt.month)\n",
    "date_day = string_formating(ny_dt.day)\n",
    "\n",
    "polygon_minute_aggs_path = f'us_stocks_sip/minute_aggs_v1/{date_year}/{date_month}'\n",
    "polygon_file_name = f'{date_year}-{date_month}-{date_day}'\n",
    "\n",
    "df = pgs3.get_csv_compressed(\n",
    "    path=polygon_minute_aggs_path,\n",
    "    file_name=polygon_file_name\n",
    ")"
   ]
  },
  {
   "cell_type": "code",
   "execution_count": 2,
   "id": "27b5c42e",
   "metadata": {},
   "outputs": [],
   "source": [
    "from datafin.utils import to_ny_time, now\n",
    "import datetime"
   ]
  },
  {
   "cell_type": "code",
   "execution_count": 14,
   "id": "d891b5d0",
   "metadata": {},
   "outputs": [
    {
     "data": {
      "text/plain": [
       "datetime.date(2025, 6, 11)"
      ]
     },
     "execution_count": 14,
     "metadata": {},
     "output_type": "execute_result"
    }
   ],
   "source": [
    "now().date()"
   ]
  },
  {
   "cell_type": "code",
   "execution_count": null,
   "id": "2c64d265",
   "metadata": {},
   "outputs": [
    {
     "name": "stdout",
     "output_type": "stream",
     "text": [
      "1749648600000 1749648899000\n"
     ]
    }
   ],
   "source": [
    "import pytz\n",
    "import datetime\n",
    "\n",
    "from datafin.utils import to_ny_time, now, \n",
    "\n",
    "date = to_ny_time(now()).date()\n",
    "\n",
    "naive_930 = datetime.datetime.combine(date, datetime.time(9, 30, 0))\n",
    "naive_93459 = datetime.datetime.combine(date, datetime.time(9, 34, 59))\n",
    "\n",
    "ny_tz = pytz.timezone('America/New_York')\n",
    "time_93000 = ny_tz.localize(naive_930)\n",
    "time_93459 = ny_tz.localize(naive_93459)\n",
    "\n",
    "timestamp_93000_ms = int(time_93000.timestamp() * 1000)\n",
    "timestamp_93459_ms = int(time_93459.timestamp() * 1000)\n",
    "\n",
    "print(timestamp_93000_ms, timestamp_93459_ms)"
   ]
  },
  {
   "cell_type": "code",
   "execution_count": 1,
   "id": "bb7d341e",
   "metadata": {},
   "outputs": [],
   "source": [
    "from datafin.utils import get_ny_timestamp_for_today_time_range"
   ]
  },
  {
   "cell_type": "code",
   "execution_count": 14,
   "id": "6f8c51a7",
   "metadata": {},
   "outputs": [],
   "source": [
    "import pandas as pd\n",
    "from datetime import datetime\n",
    "\n",
    "\n",
    "from datafin.aws import S3Client                           #type: ignore\n",
    "from datafin.aws import SecretsClient                      #type: ignore\n",
    "from datafin.apis import PolygonClient                     #type: ignore\n",
    "from datafin.utils import (                                #type: ignore\n",
    "    now,\n",
    "    to_ny_time,\n",
    "    string_formating,\n",
    "    yesterday,\n",
    "    get_ny_timestamp_for_today_time_range\n",
    ")                                \n",
    "\n",
    "\n",
    "secrets = SecretsClient()\n",
    "# from ..resources.credentials import SecretsResource\n",
    "# @asset\n",
    "def polygon_spy_open_minute_raw_df(\n",
    "        # secrets: SecretsResource\n",
    "):\n",
    "\n",
    "    pg = PolygonClient(\n",
    "        secrets.get_polygon_api_key()\n",
    "        #secrets.client.get_polygon_api_key()\n",
    "    )\n",
    "\n",
    "    timestamps = get_ny_timestamp_for_today_time_range(\n",
    "        _from = (9, 30, 0),\n",
    "        _to = (9, 30, 59)\n",
    "    )\n",
    "\n",
    "    spy_opening_min = pg.get_aggs(\n",
    "        symbol='spy',\n",
    "        multiplier=1,\n",
    "        unit='second',\n",
    "        _from = timestamps[0],\n",
    "        _to = timestamps[1]\n",
    "    )\n",
    "    df = pd.DataFrame(spy_opening_min)\n",
    "    return df\n",
    "\n",
    "# polygon_spy_open_minute_raw()\n",
    "# @asset\n",
    "def polygon_spy_open_minute_clean_df(\n",
    "        polygon_spy_open_minute_raw_df: pd.DataFrame\n",
    "):\n",
    "    df = polygon_spy_open_minute_raw_df.drop(columns=['otc'])\n",
    "    df['datetime_ny'] = pd.to_datetime(df['timestamp'], unit='ms', utc=True).dt.tz_convert('America/New_York')\n",
    "    return df\n",
    "\n",
    "# @asset\n",
    "def polygon_spy_open_clean_df_post_to_s3(\n",
    "        polygon_spy_open_minute_clean_df: pd.DataFrame,\n",
    "        # secrets: SecretsResource\n",
    ") -> None:\n",
    "    \"\"\"\n",
    "    comment on function\n",
    "    \"\"\"\n",
    "\n",
    "    my_s3 = S3Client(\n",
    "        # bucket_name=secrets.client.get_bucket_name(),\n",
    "        # aws_access_key_id=secrets.client.aws_access_key,\n",
    "        # aws_secret_access_key=secrets.client.aws_secret_access_key,\n",
    "        bucket_name=secrets.get_bucket_name(),\n",
    "        aws_access_key_id=secrets.aws_access_key,\n",
    "        aws_secret_access_key=secrets.aws_secret_access_key,\n",
    "        region_name='us-east-1'\n",
    "    )\n",
    "\n",
    "    ny_dt = to_ny_time(now())\n",
    "    date_year = string_formating(ny_dt.year)\n",
    "    date_month = string_formating(ny_dt.month)\n",
    "    date_day = string_formating(ny_dt.day)\n",
    "\n",
    "    my_s3_raw_path = f'dev/polygon/equities/spy/store/market-open/year={date_year}'\n",
    "    my_s3_file_name = f'spy-open-{date_year}-{date_month}-{date_day}'\n",
    "\n",
    "    my_s3.post_parquet(\n",
    "        data=polygon_spy_open_minute_clean_df,\n",
    "        path=my_s3_raw_path,\n",
    "        file_name=my_s3_file_name\n",
    "    )\n",
    "\n",
    "    return []\n",
    "\n",
    "# @job\n",
    "def polygon_spy_open_minute_to_s3_job():\n",
    "    raw_df = polygon_spy_open_minute_raw_df()\n",
    "    cleaned_df = polygon_spy_open_minute_clean_df(raw_df)\n",
    "    polygon_spy_open_clean_df_post_to_s3(cleaned_df)\n",
    "\n",
    "polygon_spy_open_minute_to_s3_job()\n",
    "# dfx = polygon_spy_open_minute_clean(polygon_spy_open_minute_raw())\n"
   ]
  }
 ],
 "metadata": {
  "kernelspec": {
   "display_name": "datafin-venv",
   "language": "python",
   "name": "python3"
  },
  "language_info": {
   "codemirror_mode": {
    "name": "ipython",
    "version": 3
   },
   "file_extension": ".py",
   "mimetype": "text/x-python",
   "name": "python",
   "nbconvert_exporter": "python",
   "pygments_lexer": "ipython3",
   "version": "3.12.10"
  }
 },
 "nbformat": 4,
 "nbformat_minor": 5
}
