{
 "cells": [
  {
   "cell_type": "code",
   "execution_count": 1,
   "id": "f498ffe7",
   "metadata": {},
   "outputs": [],
   "source": [
    "from datafin.utils import to_ny_time, yesterday, string_formating\n",
    "from datafin.aws import SecretsClient\n",
    "from datafin.aws import S3Client"
   ]
  },
  {
   "cell_type": "code",
   "execution_count": 10,
   "id": "091bb3c6",
   "metadata": {},
   "outputs": [
    {
     "data": {
      "text/plain": [
       "'06'"
      ]
     },
     "execution_count": 10,
     "metadata": {},
     "output_type": "execute_result"
    }
   ],
   "source": [
    "string_formating(to_ny_time(yesterday()).month)"
   ]
  },
  {
   "cell_type": "code",
   "execution_count": 2,
   "id": "97d8a409",
   "metadata": {},
   "outputs": [],
   "source": [
    "s = SecretsClient()"
   ]
  },
  {
   "cell_type": "code",
   "execution_count": null,
   "id": "9a2044fd",
   "metadata": {},
   "outputs": [],
   "source": []
  },
  {
   "cell_type": "code",
   "execution_count": 8,
   "id": "9b562489",
   "metadata": {},
   "outputs": [],
   "source": [
    "pgs3 = S3Client(\n",
    "    aws_access_key_id=s.get_polygon_aws_key(),\n",
    "    aws_secret_access_key=s.get_polygon_api_key(),\n",
    "    is_polygon=True\n",
    ")"
   ]
  },
  {
   "cell_type": "code",
   "execution_count": 11,
   "id": "00865284",
   "metadata": {},
   "outputs": [],
   "source": [
    "\n",
    "\n",
    "ny_dt = to_ny_time(yesterday())\n",
    "date_year = string_formating(ny_dt.year)\n",
    "date_month = string_formating(ny_dt.month)\n",
    "date_day = string_formating(ny_dt.day)\n",
    "\n",
    "polygon_minute_aggs_path = f'us_stocks_sip/minute_aggs_v1/{date_year}/{date_month}'\n",
    "polygon_file_name = f'{date_year}-{date_month}-{date_day}'\n",
    "\n",
    "df = pgs3.get_csv_compressed(\n",
    "    path=polygon_minute_aggs_path,\n",
    "    file_name=polygon_file_name\n",
    ")"
   ]
  }
 ],
 "metadata": {
  "kernelspec": {
   "display_name": "datafin-venv",
   "language": "python",
   "name": "python3"
  },
  "language_info": {
   "codemirror_mode": {
    "name": "ipython",
    "version": 3
   },
   "file_extension": ".py",
   "mimetype": "text/x-python",
   "name": "python",
   "nbconvert_exporter": "python",
   "pygments_lexer": "ipython3",
   "version": "3.12.10"
  }
 },
 "nbformat": 4,
 "nbformat_minor": 5
}
