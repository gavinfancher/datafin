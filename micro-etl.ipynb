{
 "cells": [
  {
   "cell_type": "code",
   "execution_count": 2,
   "id": "62d1515a",
   "metadata": {},
   "outputs": [],
   "source": [
    "from DataFin import FMPClient, S3Client, _Utils\n",
    "\n",
    "import os\n",
    "import dotenv\n",
    "import time\n",
    "import pandas as pd\n",
    "from sqlalchemy import create_engine, text\n",
    "\n",
    "dotenv.load_dotenv()\n",
    "\n",
    "fmp_api_key = os.getenv('FMP_API_KEY')\n",
    "\n",
    "\n",
    "aws_access_key =  os.getenv('AWS_ACCESS_KEY_ID')\n",
    "aws_secret_key =  os.getenv('AWS_SECRET_ACCESS_KEY')\n",
    "s3_region = 'us-east-1'\n",
    "s3_bucket = os.getenv('S3_BUCKET_NAME')\n",
    "\n",
    "rds_db_username = 'admin'\n",
    "rds_db_connection_name = os.getenv('RDS_DB_CONNECTION_NAME')\n",
    "rds_db_password = os.getenv('RDS_DB_PASSWORD')\n",
    "\n",
    "\n",
    "fmp = FMPClient(fmp_api_key)\n",
    "\n",
    "rds_engine = create_engine(f\"mysql+mysqlconnector://{rds_db_username}:{rds_db_password}@{rds_db_connection_name}/test_db\")\n",
    "conn = rds_engine.connect()\n",
    "\n",
    "s3 = S3Client(\n",
    "    aws_access_key,\n",
    "    aws_secret_key,\n",
    "    s3_region,\n",
    "    s3_bucket\n",
    ")"
   ]
  }
 ],
 "metadata": {
  "kernelspec": {
   "display_name": "Python 3",
   "language": "python",
   "name": "python3"
  },
  "language_info": {
   "codemirror_mode": {
    "name": "ipython",
    "version": 3
   },
   "file_extension": ".py",
   "mimetype": "text/x-python",
   "name": "python",
   "nbconvert_exporter": "python",
   "pygments_lexer": "ipython3",
   "version": "3.13.2"
  }
 },
 "nbformat": 4,
 "nbformat_minor": 5
}
