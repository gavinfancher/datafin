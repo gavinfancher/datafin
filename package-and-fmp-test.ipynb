{
 "cells": [
  {
   "cell_type": "code",
   "execution_count": 1,
   "id": "2fce3d7f",
   "metadata": {},
   "outputs": [],
   "source": [
    "import os\n",
    "import dotenv\n",
    "\n",
    "from datafin import S3Client, FMPClient"
   ]
  },
  {
   "cell_type": "code",
   "execution_count": 2,
   "id": "66d11ef7",
   "metadata": {},
   "outputs": [],
   "source": [
    "dotenv.load_dotenv()\n",
    "\n",
    "fmp_api_key = os.getenv('FMP_API_KEY')\n",
    "\n",
    "s3_bucket = os.getenv('PERSONAL_S3_BUCKET_NAME')\n",
    "aws_access_key =  os.getenv('PERSONAL_AWS_ACCESS_KEY_ID')\n",
    "aws_secret_key =  os.getenv('PERSONAL_AWS_SECRET_ACCESS_KEY_ID')"
   ]
  },
  {
   "cell_type": "code",
   "execution_count": 3,
   "id": "2166dc02",
   "metadata": {},
   "outputs": [],
   "source": [
    "my_s3 = S3Client(\n",
    "    bucket_name=s3_bucket,\n",
    "    aws_access_key_id=aws_access_key,\n",
    "    aws_secret_access_key=aws_secret_key,\n",
    "    region_name='us-east-1',\n",
    ")\n",
    "\n",
    "fmp = FMPClient(\n",
    "    api_key=fmp_api_key\n",
    ")"
   ]
  },
  {
   "cell_type": "code",
   "execution_count": 4,
   "id": "3ab314db",
   "metadata": {},
   "outputs": [
    {
     "data": {
      "text/plain": [
       "'{\"data\": {\"message\": \"connection to s3 bucket successful!\"}}'"
      ]
     },
     "execution_count": 4,
     "metadata": {},
     "output_type": "execute_result"
    }
   ],
   "source": [
    "test = my_s3.get_json(\n",
    "    'test',\n",
    "    'test'\n",
    ")\n",
    "test"
   ]
  },
  {
   "cell_type": "code",
   "execution_count": 5,
   "id": "57d729d0",
   "metadata": {},
   "outputs": [
    {
     "data": {
      "text/plain": [
       "'empty response'"
      ]
     },
     "execution_count": 5,
     "metadata": {},
     "output_type": "execute_result"
    }
   ],
   "source": [
    "data =fmp.get_forex_eod_5min(\n",
    "    'CHFUSD',\n",
    "    '2025-04-26',\n",
    "    '2025-04-26'\n",
    ")\n",
    "data"
   ]
  },
  {
   "cell_type": "code",
   "execution_count": 12,
   "id": "67fb5472",
   "metadata": {},
   "outputs": [],
   "source": [
    "from polygon import RESTClient\n",
    "\n",
    "client = RESTClient(\"GQn0EJI5jXsETWxkIn5fmVIQTufvfKam\")\n",
    "\n",
    "aggs = []\n",
    "count = 0\n",
    "for a in client.list_aggs(\n",
    "    \"O:SPY250509C00570000\",\n",
    "    1,\n",
    "    \"minute\",\n",
    "    \"2025-04-25\",\n",
    "    \"2025-04-25\",\n",
    "    adjusted=\"true\",\n",
    "    sort=\"asc\",\n",
    "    limit=1000,\n",
    "):\n",
    "    aggs.append(a)\n",
    "    count += 1\n",
    "    if count >= 3:  # Only get the first 3 items\n",
    "        break\n"
   ]
  },
  {
   "cell_type": "code",
   "execution_count": 13,
   "id": "b5f439d8",
   "metadata": {},
   "outputs": [],
   "source": [
    "import pandas as pd\n",
    "\n",
    "df = pd.DataFrame(aggs)"
   ]
  },
  {
   "cell_type": "code",
   "execution_count": 14,
   "id": "68bccdc4",
   "metadata": {},
   "outputs": [
    {
     "data": {
      "text/html": [
       "<div>\n",
       "<style scoped>\n",
       "    .dataframe tbody tr th:only-of-type {\n",
       "        vertical-align: middle;\n",
       "    }\n",
       "\n",
       "    .dataframe tbody tr th {\n",
       "        vertical-align: top;\n",
       "    }\n",
       "\n",
       "    .dataframe thead th {\n",
       "        text-align: right;\n",
       "    }\n",
       "</style>\n",
       "<table border=\"1\" class=\"dataframe\">\n",
       "  <thead>\n",
       "    <tr style=\"text-align: right;\">\n",
       "      <th></th>\n",
       "      <th>open</th>\n",
       "      <th>high</th>\n",
       "      <th>low</th>\n",
       "      <th>close</th>\n",
       "      <th>volume</th>\n",
       "      <th>vwap</th>\n",
       "      <th>timestamp</th>\n",
       "      <th>transactions</th>\n",
       "      <th>otc</th>\n",
       "    </tr>\n",
       "  </thead>\n",
       "  <tbody>\n",
       "    <tr>\n",
       "      <th>0</th>\n",
       "      <td>2.00</td>\n",
       "      <td>2.02</td>\n",
       "      <td>2.00</td>\n",
       "      <td>2.02</td>\n",
       "      <td>50</td>\n",
       "      <td>2.0040</td>\n",
       "      <td>1745587800000</td>\n",
       "      <td>5</td>\n",
       "      <td>None</td>\n",
       "    </tr>\n",
       "    <tr>\n",
       "      <th>1</th>\n",
       "      <td>2.05</td>\n",
       "      <td>2.06</td>\n",
       "      <td>2.05</td>\n",
       "      <td>2.06</td>\n",
       "      <td>113</td>\n",
       "      <td>2.0512</td>\n",
       "      <td>1745587860000</td>\n",
       "      <td>4</td>\n",
       "      <td>None</td>\n",
       "    </tr>\n",
       "    <tr>\n",
       "      <th>2</th>\n",
       "      <td>2.00</td>\n",
       "      <td>2.00</td>\n",
       "      <td>1.86</td>\n",
       "      <td>1.86</td>\n",
       "      <td>40</td>\n",
       "      <td>1.9310</td>\n",
       "      <td>1745587920000</td>\n",
       "      <td>4</td>\n",
       "      <td>None</td>\n",
       "    </tr>\n",
       "  </tbody>\n",
       "</table>\n",
       "</div>"
      ],
      "text/plain": [
       "   open  high   low  close  volume    vwap      timestamp  transactions   otc\n",
       "0  2.00  2.02  2.00   2.02      50  2.0040  1745587800000             5  None\n",
       "1  2.05  2.06  2.05   2.06     113  2.0512  1745587860000             4  None\n",
       "2  2.00  2.00  1.86   1.86      40  1.9310  1745587920000             4  None"
      ]
     },
     "execution_count": 14,
     "metadata": {},
     "output_type": "execute_result"
    }
   ],
   "source": [
    "df"
   ]
  }
 ],
 "metadata": {
  "kernelspec": {
   "display_name": "datafin-venv",
   "language": "python",
   "name": "python3"
  },
  "language_info": {
   "codemirror_mode": {
    "name": "ipython",
    "version": 3
   },
   "file_extension": ".py",
   "mimetype": "text/x-python",
   "name": "python",
   "nbconvert_exporter": "python",
   "pygments_lexer": "ipython3",
   "version": "3.13.2"
  }
 },
 "nbformat": 4,
 "nbformat_minor": 5
}
