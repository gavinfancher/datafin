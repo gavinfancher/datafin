{
 "cells": [
  {
   "cell_type": "code",
   "execution_count": 10,
   "id": "4b540bab",
   "metadata": {},
   "outputs": [],
   "source": [
    "import os\n",
    "import dotenv\n",
    "from datetime import datetime\n",
    "\n",
    "\n",
    "from datafin import S3Client                     # type: ignore\n",
    "from datafin import FMPClient                    # type: ignore\n",
    "from datafin import PolygonClient                # type: ignore\n",
    "from datafin import RDSClient                    # type: ignore\n",
    "from datafin.utils import (                      # type: ignore\n",
    "    get_trading_days_ytd,\n",
    "    get_trading_days_range,\n",
    "    format_date,\n",
    "    today,\n",
    "    get_5year_ago_date\n",
    ")"
   ]
  },
  {
   "cell_type": "code",
   "execution_count": 2,
   "id": "eb187a0e",
   "metadata": {},
   "outputs": [],
   "source": [
    "dotenv.load_dotenv()\n",
    "\n",
    "fmp_api_key = os.getenv('FMP_API_KEY')\n",
    "\n",
    "s3_bucket = os.getenv('PERSONAL_S3_BUCKET_NAME')\n",
    "aws_access_key =  os.getenv('PERSONAL_AWS_ACCESS_KEY_ID')\n",
    "aws_secret_key =  os.getenv('PERSONAL_AWS_SECRET_ACCESS_KEY_ID')\n",
    "\n",
    "polygon_api_key = os.getenv('POLYGON_API_KEY')\n",
    "polygon_access_key =  os.getenv('POLYGON_AWS_ACCESS_KEY_ID')\n",
    "polygon_access_key_secret_key =  os.getenv('POLYGON_AWS_SECRET_ACCESS_KEY_ID')\n",
    "\n",
    "\n",
    "rds_host_name = os.getenv('RDS_DB_HOST_CONNECTION_NAME')\n",
    "rds_username = os.getenv('RDS_DB_USERNAME')\n",
    "rds_password = os.getenv('RDS_DB_PASSWORD')"
   ]
  },
  {
   "cell_type": "code",
   "execution_count": 5,
   "id": "d7d68918",
   "metadata": {},
   "outputs": [],
   "source": [
    "my_s3 = S3Client(\n",
    "    bucket_name=s3_bucket,\n",
    "    aws_access_key_id=aws_access_key,\n",
    "    aws_secret_access_key=aws_secret_key,\n",
    "    region_name='us-east-1'\n",
    ")\n",
    "\n",
    "p_s3 = S3Client(\n",
    "    aws_access_key_id=polygon_access_key,\n",
    "    aws_secret_access_key=polygon_access_key_secret_key,\n",
    "    is_polygon=True\n",
    ")"
   ]
  },
  {
   "cell_type": "code",
   "execution_count": 14,
   "id": "bb0b044c",
   "metadata": {},
   "outputs": [
    {
     "data": {
      "text/plain": [
       "[array([False, False, False, False, False, False, False, False, False,\n",
       "        False, False, False, False, False, False, False, False, False,\n",
       "        False, False, False, False, False, False, False, False, False,\n",
       "        False, False, False, False, False, False, False, False, False,\n",
       "        False, False, False, False, False, False, False, False, False,\n",
       "        False, False, False, False, False, False, False, False, False,\n",
       "        False, False, False, False, False, False, False,  True,  True,\n",
       "         True,  True,  True,  True,  True,  True,  True,  True,  True,\n",
       "         True,  True,  True,  True,  True,  True,  True,  True])]"
      ]
     },
     "execution_count": 14,
     "metadata": {},
     "output_type": "execute_result"
    }
   ],
   "source": [
    "trading_days = get_trading_days_ytd(format_dates=False)\n",
    "current_month = datetime.now().month\n",
    "x = [(trading_days.month == current_month)]\n",
    "x"
   ]
  }
 ],
 "metadata": {
  "kernelspec": {
   "display_name": "datafin-venv",
   "language": "python",
   "name": "python3"
  },
  "language_info": {
   "codemirror_mode": {
    "name": "ipython",
    "version": 3
   },
   "file_extension": ".py",
   "mimetype": "text/x-python",
   "name": "python",
   "nbconvert_exporter": "python",
   "pygments_lexer": "ipython3",
   "version": "3.13.2"
  }
 },
 "nbformat": 4,
 "nbformat_minor": 5
}
