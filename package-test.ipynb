{
 "cells": [
  {
   "cell_type": "code",
   "execution_count": 1,
   "id": "2fce3d7f",
   "metadata": {},
   "outputs": [],
   "source": [
    "import os\n",
    "import dotenv\n",
    "\n",
    "from datafin import S3Client, FMPClient"
   ]
  },
  {
   "cell_type": "code",
   "execution_count": 2,
   "id": "66d11ef7",
   "metadata": {},
   "outputs": [],
   "source": [
    "dotenv.load_dotenv()\n",
    "\n",
    "fmp_api_key = os.getenv('FMP_API_KEY')\n",
    "\n",
    "s3_bucket = os.getenv('PERSONAL_S3_BUCKET_NAME')\n",
    "aws_access_key =  os.getenv('PERSONAL_AWS_ACCESS_KEY_ID')\n",
    "aws_secret_key =  os.getenv('PERSONAL_AWS_SECRET_ACCESS_KEY_ID')"
   ]
  },
  {
   "cell_type": "code",
   "execution_count": 3,
   "id": "2166dc02",
   "metadata": {},
   "outputs": [],
   "source": [
    "my_s3 = S3Client(\n",
    "    bucket_name=s3_bucket,\n",
    "    aws_access_key_id=aws_access_key,\n",
    "    aws_secret_access_key=aws_secret_key,\n",
    "    region_name='us-east-1',\n",
    ")"
   ]
  },
  {
   "cell_type": "code",
   "execution_count": 4,
   "id": "3ab314db",
   "metadata": {},
   "outputs": [
    {
     "data": {
      "text/plain": [
       "'{\"data\": {\"message\": \"connection to s3 bucket successful!\"}}'"
      ]
     },
     "execution_count": 4,
     "metadata": {},
     "output_type": "execute_result"
    }
   ],
   "source": [
    "test = my_s3.get_json(\n",
    "    'test',\n",
    "    'test'\n",
    ")\n",
    "test"
   ]
  },
  {
   "cell_type": "code",
   "execution_count": 7,
   "id": "57d729d0",
   "metadata": {},
   "outputs": [
    {
     "data": {
      "text/plain": [
       "[{'symbol': 'SOFI',\n",
       "  'name': 'SoFi Technologies, Inc.',\n",
       "  'price': 12.88,\n",
       "  'changePercentage': 4.63038,\n",
       "  'change': 0.57,\n",
       "  'volume': 68179382,\n",
       "  'dayLow': 12.4,\n",
       "  'dayHigh': 13.05,\n",
       "  'yearHigh': 18.42,\n",
       "  'yearLow': 6.01,\n",
       "  'marketCap': 14220808000,\n",
       "  'priceAvg50': 12.5602,\n",
       "  'priceAvg200': 11.57375,\n",
       "  'exchange': 'NASDAQ',\n",
       "  'open': 12.5,\n",
       "  'previousClose': 12.31,\n",
       "  'timestamp': 1745611200}]"
      ]
     },
     "execution_count": 7,
     "metadata": {},
     "output_type": "execute_result"
    }
   ],
   "source": [
    "fmp = FMPClient(\n",
    "    api_key=fmp_api_key\n",
    ")\n",
    "\n",
    "data =fmp.get_quote(\n",
    "    'SOFI'\n",
    ")\n",
    "data"
   ]
  }
 ],
 "metadata": {
  "kernelspec": {
   "display_name": "datafin-venv",
   "language": "python",
   "name": "python3"
  },
  "language_info": {
   "codemirror_mode": {
    "name": "ipython",
    "version": 3
   },
   "file_extension": ".py",
   "mimetype": "text/x-python",
   "name": "python",
   "nbconvert_exporter": "python",
   "pygments_lexer": "ipython3",
   "version": "3.13.2"
  }
 },
 "nbformat": 4,
 "nbformat_minor": 5
}
