{
 "cells": [
  {
   "cell_type": "code",
   "execution_count": 11,
   "id": "ead9ca7c",
   "metadata": {},
   "outputs": [],
   "source": [
    "from DataFin import FMPClient, AWSClient\n",
    "\n",
    "import os\n",
    "import dotenv\n",
    "import time\n",
    "\n",
    "dotenv.load_dotenv()\n",
    "\n",
    "## load environment variables from .env\n",
    "fmp_api_key = os.getenv('FMP_API_KEY')\n",
    "\n",
    "\n",
    "s3_bucket = os.getenv('S3_BUCKET_NAME')\n",
    "aws_access_key =  os.getenv('AWS_ACCESS_KEY_ID')\n",
    "aws_secret_key =  os.getenv('AWS_SECRET_ACCESS_KEY')\n",
    "\n",
    "\n",
    "fmp = FMPClient(fmp_api_key)\n",
    "\n",
    "aws = AWSClient(\n",
    "    aws_access_key,\n",
    "    aws_secret_key\n",
    ")\n",
    "\n",
    "s3 = aws.s3_client('us-east-1')\n",
    "\n",
    "nas = aws.get_json_from_s3(\n",
    "    s3,\n",
    "    s3_bucket,\n",
    "    'ref-data',\n",
    "    'nasdaq'\n",
    ")\n",
    "\n",
    "snp = aws.get_json_from_s3(\n",
    "    s3,\n",
    "    s3_bucket,\n",
    "    'ref-data',\n",
    "    'snp500'\n",
    ")"
   ]
  },
  {
   "cell_type": "code",
   "execution_count": 14,
   "id": "5bc75c1b",
   "metadata": {},
   "outputs": [],
   "source": [
    "aggregated = []\n",
    "\n",
    "for i in nas['data']:\n",
    "    if i not in aggregated:\n",
    "        aggregated.append(i)\n",
    "\n",
    "for i in snp['data']:\n",
    "    if i not in aggregated:\n",
    "        aggregated.append(i)"
   ]
  },
  {
   "cell_type": "code",
   "execution_count": 19,
   "id": "ee5de5d3",
   "metadata": {},
   "outputs": [],
   "source": [
    "data = dict()\n",
    "data['data'] = aggregated"
   ]
  },
  {
   "cell_type": "code",
   "execution_count": 20,
   "id": "d6d5b98d",
   "metadata": {},
   "outputs": [],
   "source": [
    "aws.post_json_to_s3(\n",
    "    s3,\n",
    "    data,\n",
    "    s3_bucket,\n",
    "    'ref-data',\n",
    "    'combo-snp-nas'\n",
    ")"
   ]
  }
 ],
 "metadata": {
  "kernelspec": {
   "display_name": "Python 3",
   "language": "python",
   "name": "python3"
  },
  "language_info": {
   "codemirror_mode": {
    "name": "ipython",
    "version": 3
   },
   "file_extension": ".py",
   "mimetype": "text/x-python",
   "name": "python",
   "nbconvert_exporter": "python",
   "pygments_lexer": "ipython3",
   "version": "3.13.2"
  }
 },
 "nbformat": 4,
 "nbformat_minor": 5
}
