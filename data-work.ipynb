{
 "cells": [
  {
   "cell_type": "code",
   "execution_count": 5,
   "id": "615c6f8d",
   "metadata": {},
   "outputs": [
    {
     "name": "stdout",
     "output_type": "stream",
     "text": [
      "Successfully converted data-ref/nasdaq.csv to nasdaq.json\n",
      "\n",
      "Preview of the data:\n",
      "{'data': ['ATVI', 'ADBE', 'ADP', 'ABNB', 'ALGN', 'GOOGL', 'GOOG', 'AMZN', 'AMD', 'AEP', 'AMGN', 'ADI', 'ANSS', 'AAPL', 'AMAT', 'ASML', 'AZN', 'TEAM', 'ADSK', 'BKR', 'BIIB', 'BKNG', 'AVGO', 'CDNS', 'CHTR', 'CTAS', 'CSCO', 'CTSH', 'CMCSA', 'CEG', 'CPRT', 'CSGP', 'COST', 'CRWD', 'CSX', 'DDOG', 'DXCM', 'FANG', 'DLTR', 'EBAY', 'EA', 'ENPH', 'EXC', 'FAST', 'FISV', 'FTNT', 'GILD', 'GFS', 'HON', 'IDXX', 'ILMN', 'INTC', 'INTU', 'ISRG', 'JD', 'KDP', 'KLAC', 'KHC', 'LRCX', 'LCID', 'LULU', 'MAR', 'MRVL', 'MELI', 'META', 'MCHP', 'MU', 'MSFT', 'MRNA', 'MDLZ', 'MNST', 'NFLX', 'NVDA', 'NXPI', 'ORLY', 'ODFL', 'PCAR', 'PANW', 'PAYX', 'PYPL', 'PDD', 'PEP', 'QCOM', 'REGN', 'RIVN', 'ROST', 'SGEN', 'SIRI', 'SBUX', 'SNPS', 'TMUS', 'TSLA', 'TXN', 'VRSK', 'VRTX', 'WBA', 'WBD', 'WDAY', 'XEL', 'ZM', 'ZS']}\n"
     ]
    }
   ],
   "source": [
    "import csv\n",
    "import json\n",
    "import os\n",
    "\n",
    "# Define paths\n",
    "data_directory = 'data-ref'\n",
    "csv_filename = 'nasdaq.csv'  # Using the actual filename from your output\n",
    "json_filename = 'nasdaq.json'\n",
    "\n",
    "# Full path to the CSV file\n",
    "csv_filepath = os.path.join(data_directory, csv_filename)\n",
    "\n",
    "# Read CSV into a list of strings (not lists)\n",
    "data_list = []\n",
    "try:\n",
    "    with open(csv_filepath, 'r', newline='', encoding='utf-8') as csvfile:\n",
    "        csv_reader = csv.reader(csvfile)\n",
    "        for row in csv_reader:\n",
    "            # Take the first element of each row, assuming it's the ticker\n",
    "            if row:  # Make sure the row isn't empty\n",
    "                data_list.append(row[0])  # Add just the string, not a list\n",
    "    \n",
    "    # Create the JSON structure\n",
    "    json_data = {\"data\": data_list}\n",
    "    \n",
    "    # Write to JSON file\n",
    "    with open(json_filename, 'w', encoding='utf-8') as jsonfile:\n",
    "        json.dump(json_data, jsonfile)\n",
    "    \n",
    "    print(f\"Successfully converted {csv_filepath} to {json_filename}\")\n",
    "    \n",
    "    # Preview the data\n",
    "    print(\"\\nPreview of the data:\")\n",
    "    print(json_data)\n",
    "    \n",
    "except FileNotFoundError:\n",
    "    print(f\"Error: The file {csv_filepath} was not found.\")\n",
    "except Exception as e:\n",
    "    print(f\"An error occurred: {str(e)}\")"
   ]
  }
 ],
 "metadata": {
  "kernelspec": {
   "display_name": "Python 3",
   "language": "python",
   "name": "python3"
  },
  "language_info": {
   "codemirror_mode": {
    "name": "ipython",
    "version": 3
   },
   "file_extension": ".py",
   "mimetype": "text/x-python",
   "name": "python",
   "nbconvert_exporter": "python",
   "pygments_lexer": "ipython3",
   "version": "3.13.2"
  }
 },
 "nbformat": 4,
 "nbformat_minor": 5
}
