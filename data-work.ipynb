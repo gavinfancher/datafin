{
 "cells": [
  {
   "cell_type": "code",
   "execution_count": 31,
   "id": "615c6f8d",
   "metadata": {},
   "outputs": [
    {
     "name": "stdout",
     "output_type": "stream",
     "text": [
      "The autoreload extension is already loaded. To reload it, use:\n",
      "  %reload_ext autoreload\n"
     ]
    }
   ],
   "source": [
    "%load_ext autoreload\n",
    "%autoreload 2"
   ]
  },
  {
   "cell_type": "code",
   "execution_count": 32,
   "id": "6cc0a30b",
   "metadata": {},
   "outputs": [],
   "source": [
    "from DataFin import FMPClient, S3Client\n",
    "\n",
    "import os\n",
    "import dotenv\n",
    "import boto3\n",
    "import json\n",
    "\n",
    "dotenv.load_dotenv()\n",
    "\n",
    "fmp_api_key = os.getenv('FMP_API_KEY')\n",
    "\n",
    "s3_bucket = os.getenv('S3_BUCKET_NAME')\n",
    "aws_access_key =  os.getenv('AWS_ACCESS_KEY_ID')\n",
    "aws_secret_key =  os.getenv('AWS_SECRET_ACCESS_KEY')\n",
    "\n",
    "\n",
    "fmp = FMPClient(fmp_api_key)\n",
    "\n",
    "s3 = S3Client(\n",
    "    aws_account_access_key = aws_access_key,\n",
    "    aws_secret_account_access_key = aws_secret_key,\n",
    "    region = 'us-east-1',\n",
    "    bucket_name = s3_bucket\n",
    ")"
   ]
  },
  {
   "cell_type": "code",
   "execution_count": null,
   "id": "5c2124bc",
   "metadata": {},
   "outputs": [
    {
     "name": "stdout",
     "output_type": "stream",
     "text": [
      "2025\n",
      "4\n"
     ]
    }
   ],
   "source": [
    "from datetime import datetime\n",
    "now = datetime.now()\n",
    "print(now.year)\n",
    "print(now.month)\n",
    "\n",
    "year = now.year\n",
    "\n",
    "# Get month as string with leading zero if needed\n",
    "month = f\"{now.month:02d}\""
   ]
  }
 ],
 "metadata": {
  "kernelspec": {
   "display_name": "Python 3",
   "language": "python",
   "name": "python3"
  },
  "language_info": {
   "codemirror_mode": {
    "name": "ipython",
    "version": 3
   },
   "file_extension": ".py",
   "mimetype": "text/x-python",
   "name": "python",
   "nbconvert_exporter": "python",
   "pygments_lexer": "ipython3",
   "version": "3.13.2"
  }
 },
 "nbformat": 4,
 "nbformat_minor": 5
}
