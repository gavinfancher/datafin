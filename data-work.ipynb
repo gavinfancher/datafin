{
 "cells": [
  {
   "cell_type": "code",
   "execution_count": null,
   "id": "615c6f8d",
   "metadata": {},
   "outputs": [],
   "source": [
    "%load_ext autoreload\n",
    "%autoreload 2"
   ]
  },
  {
   "cell_type": "code",
   "execution_count": 4,
   "id": "6cc0a30b",
   "metadata": {},
   "outputs": [],
   "source": [
    "from DataFin import FMPClient\n",
    "\n",
    "import os\n",
    "import dotenv\n",
    "\n",
    "dotenv.load_dotenv()\n",
    "\n",
    "fmp_api_key = os.getenv('FMP_API_KEY')\n",
    "\n",
    "s3_bucket = os.getenv('S3_BUCKET_NAME')\n",
    "aws_access_key =  os.getenv('AWS_ACCESS_KEY_ID')\n",
    "aws_secret_key =  os.getenv('AWS_SECRET_ACCESS_KEY')\n",
    "\n",
    "\n",
    "fmp = FMPClient(fmp_api_key)"
   ]
  },
  {
   "cell_type": "code",
   "execution_count": 21,
   "id": "7b03bc71",
   "metadata": {},
   "outputs": [],
   "source": [
    "amzn_day_start = fmp.get_end_of_day_full('amzn')[0]['open']"
   ]
  },
  {
   "cell_type": "code",
   "execution_count": null,
   "id": "e63d6772",
   "metadata": {},
   "outputs": [
    {
     "name": "stdout",
     "output_type": "stream",
     "text": [
      "180.246 ..... -2.47%\n"
     ]
    }
   ],
   "source": [
    "amzn = fmp.get_live_price('amzn')\n",
    "price = amzn[0]['price']\n",
    "pct_change = round((amzn[0]['change'] / amzn_day_start) * 100, 2)\n",
    "print(price, '...', f'{pct_change}%')\n"
   ]
  }
 ],
 "metadata": {
  "kernelspec": {
   "display_name": "Python 3",
   "language": "python",
   "name": "python3"
  },
  "language_info": {
   "codemirror_mode": {
    "name": "ipython",
    "version": 3
   },
   "file_extension": ".py",
   "mimetype": "text/x-python",
   "name": "python",
   "nbconvert_exporter": "python",
   "pygments_lexer": "ipython3",
   "version": "3.13.2"
  }
 },
 "nbformat": 4,
 "nbformat_minor": 5
}
